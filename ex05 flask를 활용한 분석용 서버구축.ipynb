{
 "cells": [
  {
   "cell_type": "code",
   "execution_count": 1,
   "id": "f81aa96f",
   "metadata": {},
   "outputs": [
    {
     "name": "stdout",
     "output_type": "stream",
     "text": [
      "Requirement already satisfied: matplotlib in c:\\users\\smhrd\\anaconda3\\envs\\deep1\\lib\\site-packages (3.5.1)\n",
      "Requirement already satisfied: pyparsing>=2.2.1 in c:\\users\\smhrd\\anaconda3\\envs\\deep1\\lib\\site-packages (from matplotlib) (3.0.4)\n",
      "Requirement already satisfied: fonttools>=4.22.0 in c:\\users\\smhrd\\anaconda3\\envs\\deep1\\lib\\site-packages (from matplotlib) (4.28.5)\n",
      "Requirement already satisfied: packaging>=20.0 in c:\\users\\smhrd\\anaconda3\\envs\\deep1\\lib\\site-packages (from matplotlib) (21.3)\n",
      "Requirement already satisfied: numpy>=1.17 in c:\\users\\smhrd\\anaconda3\\envs\\deep1\\lib\\site-packages (from matplotlib) (1.21.2)\n",
      "Requirement already satisfied: cycler>=0.10 in c:\\users\\smhrd\\anaconda3\\envs\\deep1\\lib\\site-packages (from matplotlib) (0.11.0)\n",
      "Requirement already satisfied: kiwisolver>=1.0.1 in c:\\users\\smhrd\\anaconda3\\envs\\deep1\\lib\\site-packages (from matplotlib) (1.3.2)\n",
      "Requirement already satisfied: python-dateutil>=2.7 in c:\\users\\smhrd\\anaconda3\\envs\\deep1\\lib\\site-packages (from matplotlib) (2.8.2)\n",
      "Requirement already satisfied: pillow>=6.2.0 in c:\\users\\smhrd\\anaconda3\\envs\\deep1\\lib\\site-packages (from matplotlib) (9.0.0)\n",
      "Requirement already satisfied: six>=1.5 in c:\\users\\smhrd\\anaconda3\\envs\\deep1\\lib\\site-packages (from python-dateutil>=2.7->matplotlib) (1.16.0)\n"
     ]
    }
   ],
   "source": [
    "!pip install matplotlib"
   ]
  },
  {
   "cell_type": "code",
   "execution_count": 2,
   "id": "af22ca3e",
   "metadata": {},
   "outputs": [
    {
     "name": "stdout",
     "output_type": "stream",
     "text": [
      "Requirement already satisfied: flask in c:\\users\\smhrd\\anaconda3\\envs\\deep1\\lib\\site-packages (2.0.2)\n",
      "Requirement already satisfied: Jinja2>=3.0 in c:\\users\\smhrd\\anaconda3\\envs\\deep1\\lib\\site-packages (from flask) (3.0.2)\n",
      "Requirement already satisfied: click>=7.1.2 in c:\\users\\smhrd\\anaconda3\\envs\\deep1\\lib\\site-packages (from flask) (8.0.3)\n",
      "Requirement already satisfied: Werkzeug>=2.0 in c:\\users\\smhrd\\anaconda3\\envs\\deep1\\lib\\site-packages (from flask) (2.0.2)\n",
      "Requirement already satisfied: itsdangerous>=2.0 in c:\\users\\smhrd\\anaconda3\\envs\\deep1\\lib\\site-packages (from flask) (2.0.1)\n",
      "Requirement already satisfied: colorama in c:\\users\\smhrd\\anaconda3\\envs\\deep1\\lib\\site-packages (from click>=7.1.2->flask) (0.4.4)\n",
      "Requirement already satisfied: importlib-metadata in c:\\users\\smhrd\\anaconda3\\envs\\deep1\\lib\\site-packages (from click>=7.1.2->flask) (4.8.2)\n",
      "Requirement already satisfied: MarkupSafe>=2.0 in c:\\users\\smhrd\\anaconda3\\envs\\deep1\\lib\\site-packages (from Jinja2>=3.0->flask) (2.0.1)\n",
      "Requirement already satisfied: zipp>=0.5 in c:\\users\\smhrd\\anaconda3\\envs\\deep1\\lib\\site-packages (from importlib-metadata->click>=7.1.2->flask) (3.6.0)\n",
      "Requirement already satisfied: typing-extensions>=3.6.4 in c:\\users\\smhrd\\anaconda3\\envs\\deep1\\lib\\site-packages (from importlib-metadata->click>=7.1.2->flask) (3.10.0.2)\n"
     ]
    }
   ],
   "source": [
    "!pip install flask"
   ]
  },
  {
   "cell_type": "code",
   "execution_count": 3,
   "id": "7bafaac5",
   "metadata": {},
   "outputs": [
    {
     "name": "stdout",
     "output_type": "stream",
     "text": [
      "Requirement already satisfied: opencv-python in c:\\users\\smhrd\\anaconda3\\envs\\deep1\\lib\\site-packages (4.5.5.62)\n",
      "Requirement already satisfied: numpy>=1.14.5 in c:\\users\\smhrd\\anaconda3\\envs\\deep1\\lib\\site-packages (from opencv-python) (1.21.2)\n"
     ]
    }
   ],
   "source": [
    "!pip install opencv-python"
   ]
  },
  {
   "cell_type": "code",
   "execution_count": null,
   "id": "44955f1b",
   "metadata": {},
   "outputs": [],
   "source": []
  },
  {
   "cell_type": "code",
   "execution_count": 4,
   "id": "2b2dd9fa",
   "metadata": {},
   "outputs": [],
   "source": [
    "from flask import Flask, request # flask 서버구축용\n",
    "import cv2 #영상처리용 opencv\n",
    "import io #파일 입출력용\n",
    "import numpy as np\n",
    "import matplotlib.pyplot as plt\n",
    "from tensorflow.keras.models import load_model # 저장된 모델 로딩용"
   ]
  },
  {
   "cell_type": "code",
   "execution_count": 7,
   "id": "775c508c",
   "metadata": {},
   "outputs": [
    {
     "name": "stdout",
     "output_type": "stream",
     "text": [
      "WARNING:tensorflow:No training configuration found in the save file, so the model was *not* compiled. Compile it manually.\n",
      " * Serving Flask app '__main__' (lazy loading)\n",
      " * Environment: production\n",
      "\u001b[31m   WARNING: This is a development server. Do not use it in a production deployment.\u001b[0m\n",
      "\u001b[2m   Use a production WSGI server instead.\u001b[0m\n",
      " * Debug mode: off\n"
     ]
    },
    {
     "name": "stderr",
     "output_type": "stream",
     "text": [
      " * Running on http://59.0.236.2:8888/ (Press CTRL+C to quit)\n"
     ]
    }
   ],
   "source": [
    "app=Flask(__name__) # 플라스크 서버 객체 생성\n",
    "# 모델로딩\n",
    "model=load_model(\"keras_model.h5\")\n",
    "\n",
    "# 사용자 요청을 처리하기 위한 라우터 설정\n",
    "@app.route('/fileUpload', methods=['POST'])\n",
    "\n",
    "\n",
    "def fileUpload() :\n",
    "    if request.method == 'POST':\n",
    "        f=request.files['image'] # 요청된 객체안의 파일 데이터 꺼내기\n",
    "        bytes_file=io.BytesIO() # byte단위로 저장할 객체 생성\n",
    "        f.save(bytes_file) #byte단위로 데이터 저장\n",
    "        data=np.fromstring(bytes_file.getvalue(),dtype=np.uint8) # numpy로 변경\n",
    "        print(data.shape)\n",
    "        \n",
    "        img=cv2.imdecode(data,1) # 1-> 컬러사진 옵션\n",
    "        img_rgb=cv2.cvtColor(img,cv2.COLOR_BGR2RGB) #BGR -> RGB\n",
    "        display(plt.imshow(img_rgb)) # matplotlib을 이용해서 사진을 그린다\n",
    "        plt.show() # 그려진 그림을 보여준다\n",
    "        \n",
    "        # 티쳐블머신에서 진행한 스케일링 작업 전처리\n",
    "        img_scaled=(np.array(img_rgb,dtype=np.float32)/127.0)-1\n",
    "        \n",
    "    \n",
    "       \n",
    "        # 모델예측\n",
    "        pre = model.predict(img_scaled.reshape(1,224,244,3))\n",
    "        i = np.argmax(pre) # 3개의 확률정보중 가장 큰 인덱스 찾기\n",
    "        \n",
    "        if i == 0:\n",
    "            result=\"마이크\"\n",
    "        elif i == 1:\n",
    "            result=\"과자\"\n",
    "        elif i == 2:\n",
    "            result=\"리모콘\"\n",
    "            \n",
    "        \n",
    "    return \"당신이 업로드한 사진은{}입니다\".format(result)\n",
    "\n",
    "app.run(host='59.0.236.2',port=8888) # 서버구동"
   ]
  },
  {
   "cell_type": "code",
   "execution_count": null,
   "id": "1af26c9b",
   "metadata": {},
   "outputs": [],
   "source": []
  },
  {
   "cell_type": "code",
   "execution_count": null,
   "id": "33456698",
   "metadata": {},
   "outputs": [],
   "source": []
  },
  {
   "cell_type": "code",
   "execution_count": null,
   "id": "e953b69c",
   "metadata": {},
   "outputs": [],
   "source": []
  },
  {
   "cell_type": "code",
   "execution_count": null,
   "id": "26d51b2a",
   "metadata": {},
   "outputs": [],
   "source": []
  },
  {
   "cell_type": "code",
   "execution_count": null,
   "id": "3e69cd16",
   "metadata": {},
   "outputs": [],
   "source": []
  },
  {
   "cell_type": "code",
   "execution_count": null,
   "id": "3b408959",
   "metadata": {},
   "outputs": [],
   "source": []
  },
  {
   "cell_type": "code",
   "execution_count": null,
   "id": "f9254fab",
   "metadata": {},
   "outputs": [],
   "source": []
  },
  {
   "cell_type": "code",
   "execution_count": null,
   "id": "926f319f",
   "metadata": {},
   "outputs": [],
   "source": []
  },
  {
   "cell_type": "code",
   "execution_count": null,
   "id": "c69bad8b",
   "metadata": {},
   "outputs": [],
   "source": []
  }
 ],
 "metadata": {
  "kernelspec": {
   "display_name": "Python 3",
   "language": "python",
   "name": "python3"
  },
  "language_info": {
   "codemirror_mode": {
    "name": "ipython",
    "version": 3
   },
   "file_extension": ".py",
   "mimetype": "text/x-python",
   "name": "python",
   "nbconvert_exporter": "python",
   "pygments_lexer": "ipython3",
   "version": "3.8.8"
  }
 },
 "nbformat": 4,
 "nbformat_minor": 5
}
